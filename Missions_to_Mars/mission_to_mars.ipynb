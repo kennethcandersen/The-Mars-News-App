{
 "cells": [
  {
   "cell_type": "code",
   "execution_count": 1,
   "id": "right-sheffield",
   "metadata": {},
   "outputs": [],
   "source": [
    "# Import dependencies\n",
    "\n",
    "from bs4 import BeautifulSoup as bs\n",
    "import requests\n",
    "import pymongo\n",
    "from splinter import Browser\n",
    "from webdriver_manager.chrome import ChromeDriverManager\n",
    "import pandas as pd"
   ]
  },
  {
   "cell_type": "code",
   "execution_count": 2,
   "id": "meaningful-amendment",
   "metadata": {},
   "outputs": [
    {
     "name": "stderr",
     "output_type": "stream",
     "text": [
      "\n",
      "\n",
      "====== WebDriver manager ======\n",
      "Current google-chrome version is 91.0.4472\n",
      "Get LATEST driver version for 91.0.4472\n",
      "Driver [/Users/kennethandersen/.wdm/drivers/chromedriver/mac64/91.0.4472.19/chromedriver] found in cache\n"
     ]
    }
   ],
   "source": [
    "# Setup splinter for the whole project\n",
    "executable_path = {'executable_path': ChromeDriverManager().install()}\n",
    "browser = Browser('chrome', **executable_path, headless=False)"
   ]
  },
  {
   "cell_type": "code",
   "execution_count": 216,
   "id": "veterinary-joint",
   "metadata": {},
   "outputs": [],
   "source": [
    "##########################################################################\n",
    "#                            Scrape Article\n",
    "##########################################################################\n",
    "\n",
    "# Setup url and launch browser\n",
    "article_url = 'https://redplanetscience.com'             \n",
    "browser.visit(article_url)"
   ]
  },
  {
   "cell_type": "code",
   "execution_count": 217,
   "id": "artificial-prompt",
   "metadata": {},
   "outputs": [
    {
     "name": "stdout",
     "output_type": "stream",
     "text": [
      "Virginia Middle School Student Earns Honor of Naming NASA's Next Mars Rover\n",
      "NASA chose a seventh-grader from Virginia as winner of the agency's \"Name the Rover\" essay contest. Alexander Mather's entry for \"Perseverance\" was voted tops among 28,000 entries. \n"
     ]
    }
   ],
   "source": [
    "# Use BeautifulSoup to read the url and extract the article Header and Teaser and assign to variables\n",
    "\n",
    "soup = BeautifulSoup(browser.html, 'html.parser')\n",
    "\n",
    "article_headers = soup.find_all('div', class_='content_title')\n",
    "first_article_header = headers[0].text\n",
    "\n",
    "article_teasers = soup.find_all('div', class_='article_teaser_body')\n",
    "first_article_teaser = article_teasers[0].text\n",
    "\n",
    "print(first_article_header)\n",
    "print(first_article_teaser)"
   ]
  },
  {
   "cell_type": "code",
   "execution_count": 218,
   "id": "declared-kidney",
   "metadata": {},
   "outputs": [],
   "source": [
    "##########################################################################\n",
    "#                         Scrape Featured Image\n",
    "##########################################################################\n",
    "\n",
    "# Setup url and launch browser\n",
    "image_url = 'https://spaceimages-mars.com/'\n",
    "browser.visit(image_url)"
   ]
  },
  {
   "cell_type": "code",
   "execution_count": 219,
   "id": "graduate-fellow",
   "metadata": {},
   "outputs": [
    {
     "name": "stdout",
     "output_type": "stream",
     "text": [
      "https://spaceimages-mars.com/image/featured/mars1.jpg\n"
     ]
    }
   ],
   "source": [
    "# Use BeautifulSoup to read the url and extract the featured image url\n",
    "\n",
    "soup = BeautifulSoup(browser.html, 'html.parser')\n",
    "\n",
    "featured_images = soup.find_all('img', class_='headerimage fade-in')\n",
    "\n",
    "featured_image_url = f\"{image_url}{featured_images[0]['src']}\"\n",
    "print(featured_image_url)"
   ]
  },
  {
   "cell_type": "code",
   "execution_count": 4,
   "id": "unlimited-integration",
   "metadata": {},
   "outputs": [],
   "source": [
    "##########################################################################\n",
    "#                         Scrape Fact Table\n",
    "##########################################################################\n",
    "\n",
    "# Setup url and launch browser\n",
    "mars_facts_table_url = 'https://galaxyfacts-mars.com/'\n",
    "browser.visit(mars_facts_table_url)"
   ]
  },
  {
   "cell_type": "code",
   "execution_count": 5,
   "id": "satisfied-teddy",
   "metadata": {},
   "outputs": [
    {
     "data": {
      "text/html": [
       "<div>\n",
       "<style scoped>\n",
       "    .dataframe tbody tr th:only-of-type {\n",
       "        vertical-align: middle;\n",
       "    }\n",
       "\n",
       "    .dataframe tbody tr th {\n",
       "        vertical-align: top;\n",
       "    }\n",
       "\n",
       "    .dataframe thead th {\n",
       "        text-align: right;\n",
       "    }\n",
       "</style>\n",
       "<table border=\"1\" class=\"dataframe\">\n",
       "  <thead>\n",
       "    <tr style=\"text-align: right;\">\n",
       "      <th></th>\n",
       "      <th>Mars</th>\n",
       "      <th>Earth</th>\n",
       "    </tr>\n",
       "    <tr>\n",
       "      <th>Mars - Earth Comparison</th>\n",
       "      <th></th>\n",
       "      <th></th>\n",
       "    </tr>\n",
       "  </thead>\n",
       "  <tbody>\n",
       "    <tr>\n",
       "      <th>Diameter:</th>\n",
       "      <td>6,779 km</td>\n",
       "      <td>12,742 km</td>\n",
       "    </tr>\n",
       "    <tr>\n",
       "      <th>Mass:</th>\n",
       "      <td>6.39 × 10^23 kg</td>\n",
       "      <td>5.97 × 10^24 kg</td>\n",
       "    </tr>\n",
       "    <tr>\n",
       "      <th>Moons:</th>\n",
       "      <td>2</td>\n",
       "      <td>1</td>\n",
       "    </tr>\n",
       "    <tr>\n",
       "      <th>Distance from Sun:</th>\n",
       "      <td>227,943,824 km</td>\n",
       "      <td>149,598,262 km</td>\n",
       "    </tr>\n",
       "    <tr>\n",
       "      <th>Length of Year:</th>\n",
       "      <td>687 Earth days</td>\n",
       "      <td>365.24 days</td>\n",
       "    </tr>\n",
       "    <tr>\n",
       "      <th>Temperature:</th>\n",
       "      <td>-87 to -5 °C</td>\n",
       "      <td>-88 to 58°C</td>\n",
       "    </tr>\n",
       "  </tbody>\n",
       "</table>\n",
       "</div>"
      ],
      "text/plain": [
       "                                    Mars            Earth\n",
       "Mars - Earth Comparison                                  \n",
       "Diameter:                       6,779 km        12,742 km\n",
       "Mass:                    6.39 × 10^23 kg  5.97 × 10^24 kg\n",
       "Moons:                                 2                1\n",
       "Distance from Sun:        227,943,824 km   149,598,262 km\n",
       "Length of Year:           687 Earth days      365.24 days\n",
       "Temperature:                -87 to -5 °C      -88 to 58°C"
      ]
     },
     "execution_count": 5,
     "metadata": {},
     "output_type": "execute_result"
    }
   ],
   "source": [
    "# Use Pandas to read the url and extract the table\n",
    "\n",
    "mars_facts_df = pd.read_html(mars_facts_table_url)[0]\n",
    "mars_facts_df.columns = ['Mars - Earth Comparison', 'Mars', 'Earth']  # Clean up column names\n",
    "mars_facts_df = mars_facts_df.iloc[1:]                                # Get rid of first row\n",
    "mars_facts_df.set_index('Mars - Earth Comparison', inplace=True)      # Replace numbered index\n",
    "mars_facts_df"
   ]
  },
  {
   "cell_type": "code",
   "execution_count": 7,
   "id": "flexible-black",
   "metadata": {},
   "outputs": [
    {
     "data": {
      "text/plain": [
       "'<table border=\"1\" class=\"dataframe\">\\n  <thead>\\n    <tr style=\"text-align: right;\">\\n      <th></th>\\n      <th>Mars</th>\\n      <th>Earth</th>\\n    </tr>\\n    <tr>\\n      <th>Mars - Earth Comparison</th>\\n      <th></th>\\n      <th></th>\\n    </tr>\\n  </thead>\\n  <tbody>\\n    <tr>\\n      <th>Diameter:</th>\\n      <td>6,779 km</td>\\n      <td>12,742 km</td>\\n    </tr>\\n    <tr>\\n      <th>Mass:</th>\\n      <td>6.39 × 10^23 kg</td>\\n      <td>5.97 × 10^24 kg</td>\\n    </tr>\\n    <tr>\\n      <th>Moons:</th>\\n      <td>2</td>\\n      <td>1</td>\\n    </tr>\\n    <tr>\\n      <th>Distance from Sun:</th>\\n      <td>227,943,824 km</td>\\n      <td>149,598,262 km</td>\\n    </tr>\\n    <tr>\\n      <th>Length of Year:</th>\\n      <td>687 Earth days</td>\\n      <td>365.24 days</td>\\n    </tr>\\n    <tr>\\n      <th>Temperature:</th>\\n      <td>-87 to -5 °C</td>\\n      <td>-88 to 58°C</td>\\n    </tr>\\n  </tbody>\\n</table>'"
      ]
     },
     "execution_count": 7,
     "metadata": {},
     "output_type": "execute_result"
    }
   ],
   "source": [
    "# Export the table to html file\n",
    "\n",
    "mars_facts_df.to_html()\n"
   ]
  },
  {
   "cell_type": "code",
   "execution_count": 223,
   "id": "pregnant-process",
   "metadata": {},
   "outputs": [],
   "source": [
    "##########################################################################\n",
    "#                      Scrape Hemisphere Images\n",
    "##########################################################################\n",
    "\n",
    "# Setup url and launch browser\n",
    "hemispheres_url = 'https://marshemispheres.com/'\n",
    "browser.visit(hemispheres_url)\n",
    "\n",
    "# Use BeautifulSoup to read the url and extract the description section \n",
    "#for each of the 4 \"Products\" (Hemispheres)\n",
    "soup = BeautifulSoup(browser.html, 'html.parser')\n",
    "products = soup.find_all('div', class_= 'description')"
   ]
  },
  {
   "cell_type": "code",
   "execution_count": 226,
   "id": "favorite-native",
   "metadata": {},
   "outputs": [
    {
     "data": {
      "text/plain": [
       "[{'image_title': 'Cerberus Hemisphere Enhanced',\n",
       "  'image_url': 'https://marshemispheres.com/images/cerberus_enhanced.tif'},\n",
       " {'image_title': 'Schiaparelli Hemisphere Enhanced',\n",
       "  'image_url': 'https://marshemispheres.com/images/schiaparelli_enhanced.tif'},\n",
       " {'image_title': 'Syrtis Major Hemisphere Enhanced',\n",
       "  'image_url': 'https://marshemispheres.com/images/syrtis_major_enhanced.tif'},\n",
       " {'image_title': 'Valles Marineris Hemisphere Enhanced',\n",
       "  'image_url': 'https://marshemispheres.com/images/valles_marineris_enhanced.tif'}]"
      ]
     },
     "execution_count": 226,
     "metadata": {},
     "output_type": "execute_result"
    }
   ],
   "source": [
    "# Iterate over the text for each \"Product\" (Hemisphere) and extract the title and url for the \n",
    "#high res tiff file.\n",
    "\n",
    "hemisphere_images = []                            # Set up list for results, as instructed\n",
    "\n",
    "for product in products:\n",
    "    \n",
    "    temp_dict = {}                                # Set up temporary dictionary for results\n",
    "    \n",
    "    # Get image title\n",
    "    hemisphere_image_title = product.find('h3').text      # Extract title from the <h3> tags\n",
    "    temp_dict['image_title'] = hemisphere_image_title     # Add Image Title to dictionary\n",
    "    \n",
    "    \n",
    "    # Get url for high resolution tif file\n",
    "    hemisphere_url = product.find_all('a', class_='itemLink product-item')[0]['href'] # Get link for product page\n",
    "    browser.visit(f\"{hemisphere_images_url}{hemisphere_url}\")                         # Send browser to product page\n",
    "    soup = BeautifulSoup(browser.html, 'html.parser')                                 # Parse product page\n",
    "    \n",
    "    # Drill down into text to get the .tif url\n",
    "    hemisphere_image_url = soup.find('div', {'class' :'downloads'}).find('ul').find_all('a')[1]['href']                               \n",
    "    hemisphere_image_url_complete = f\"{hemisphere_images_url}{hemisphere_image_url}\"  # Piece together the full url\n",
    "    temp_dict['image_url'] = hemisphere_image_url_complete                            # Add url to dictionary\n",
    "    \n",
    "    # Append dictionary to list\n",
    "    hemisphere_images.append(temp_dict)\n",
    "    \n",
    "hemisphere_images  "
   ]
  },
  {
   "cell_type": "code",
   "execution_count": 227,
   "id": "electric-allah",
   "metadata": {},
   "outputs": [],
   "source": [
    "browser.quit()"
   ]
  },
  {
   "cell_type": "code",
   "execution_count": null,
   "id": "colored-oasis",
   "metadata": {},
   "outputs": [],
   "source": []
  }
 ],
 "metadata": {
  "kernelspec": {
   "display_name": "Python [conda env:root] *",
   "language": "python",
   "name": "conda-root-py"
  },
  "language_info": {
   "codemirror_mode": {
    "name": "ipython",
    "version": 3
   },
   "file_extension": ".py",
   "mimetype": "text/x-python",
   "name": "python",
   "nbconvert_exporter": "python",
   "pygments_lexer": "ipython3",
   "version": "3.8.5"
  }
 },
 "nbformat": 4,
 "nbformat_minor": 5
}
